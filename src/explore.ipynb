{
    "cells": [
        {
            "cell_type": "markdown",
            "metadata": {},
            "source": [
                "Proyecto de Procesado de Datos"
            ]
        },
        {
            "cell_type": "code",
            "execution_count": 1,
            "metadata": {},
            "outputs": [
                {
                    "data": {
                        "text/html": [
                            "<div>\n",
                            "<style scoped>\n",
                            "    .dataframe tbody tr th:only-of-type {\n",
                            "        vertical-align: middle;\n",
                            "    }\n",
                            "\n",
                            "    .dataframe tbody tr th {\n",
                            "        vertical-align: top;\n",
                            "    }\n",
                            "\n",
                            "    .dataframe thead th {\n",
                            "        text-align: right;\n",
                            "    }\n",
                            "</style>\n",
                            "<table border=\"1\" class=\"dataframe\">\n",
                            "  <thead>\n",
                            "    <tr style=\"text-align: right;\">\n",
                            "      <th></th>\n",
                            "      <th>name</th>\n",
                            "      <th>host_id</th>\n",
                            "      <th>host_name</th>\n",
                            "      <th>neighbourhood_group</th>\n",
                            "      <th>neighbourhood</th>\n",
                            "      <th>latitude</th>\n",
                            "      <th>longitude</th>\n",
                            "      <th>room_type</th>\n",
                            "      <th>price</th>\n",
                            "      <th>minimum_nights</th>\n",
                            "      <th>number_of_reviews</th>\n",
                            "      <th>last_review</th>\n",
                            "      <th>reviews_per_month</th>\n",
                            "      <th>calculated_host_listings_count</th>\n",
                            "      <th>availability_365</th>\n",
                            "    </tr>\n",
                            "  </thead>\n",
                            "  <tbody>\n",
                            "    <tr>\n",
                            "      <th>0</th>\n",
                            "      <td>Clean &amp; quiet apt home by the park</td>\n",
                            "      <td>2787</td>\n",
                            "      <td>John</td>\n",
                            "      <td>Brooklyn</td>\n",
                            "      <td>Kensington</td>\n",
                            "      <td>40.64749</td>\n",
                            "      <td>-73.97237</td>\n",
                            "      <td>Private room</td>\n",
                            "      <td>149</td>\n",
                            "      <td>1</td>\n",
                            "      <td>9</td>\n",
                            "      <td>2018-10-19</td>\n",
                            "      <td>0.21</td>\n",
                            "      <td>6</td>\n",
                            "      <td>365</td>\n",
                            "    </tr>\n",
                            "    <tr>\n",
                            "      <th>1</th>\n",
                            "      <td>Skylit Midtown Castle</td>\n",
                            "      <td>2845</td>\n",
                            "      <td>Jennifer</td>\n",
                            "      <td>Manhattan</td>\n",
                            "      <td>Midtown</td>\n",
                            "      <td>40.75362</td>\n",
                            "      <td>-73.98377</td>\n",
                            "      <td>Entire home/apt</td>\n",
                            "      <td>225</td>\n",
                            "      <td>1</td>\n",
                            "      <td>45</td>\n",
                            "      <td>2019-05-21</td>\n",
                            "      <td>0.38</td>\n",
                            "      <td>2</td>\n",
                            "      <td>355</td>\n",
                            "    </tr>\n",
                            "    <tr>\n",
                            "      <th>2</th>\n",
                            "      <td>THE VILLAGE OF HARLEM....NEW YORK !</td>\n",
                            "      <td>4632</td>\n",
                            "      <td>Elisabeth</td>\n",
                            "      <td>Manhattan</td>\n",
                            "      <td>Harlem</td>\n",
                            "      <td>40.80902</td>\n",
                            "      <td>-73.94190</td>\n",
                            "      <td>Private room</td>\n",
                            "      <td>150</td>\n",
                            "      <td>3</td>\n",
                            "      <td>0</td>\n",
                            "      <td>NaN</td>\n",
                            "      <td>NaN</td>\n",
                            "      <td>1</td>\n",
                            "      <td>365</td>\n",
                            "    </tr>\n",
                            "    <tr>\n",
                            "      <th>3</th>\n",
                            "      <td>Cozy Entire Floor of Brownstone</td>\n",
                            "      <td>4869</td>\n",
                            "      <td>LisaRoxanne</td>\n",
                            "      <td>Brooklyn</td>\n",
                            "      <td>Clinton Hill</td>\n",
                            "      <td>40.68514</td>\n",
                            "      <td>-73.95976</td>\n",
                            "      <td>Entire home/apt</td>\n",
                            "      <td>89</td>\n",
                            "      <td>1</td>\n",
                            "      <td>270</td>\n",
                            "      <td>2019-07-05</td>\n",
                            "      <td>4.64</td>\n",
                            "      <td>1</td>\n",
                            "      <td>194</td>\n",
                            "    </tr>\n",
                            "    <tr>\n",
                            "      <th>4</th>\n",
                            "      <td>Entire Apt: Spacious Studio/Loft by central park</td>\n",
                            "      <td>7192</td>\n",
                            "      <td>Laura</td>\n",
                            "      <td>Manhattan</td>\n",
                            "      <td>East Harlem</td>\n",
                            "      <td>40.79851</td>\n",
                            "      <td>-73.94399</td>\n",
                            "      <td>Entire home/apt</td>\n",
                            "      <td>80</td>\n",
                            "      <td>10</td>\n",
                            "      <td>9</td>\n",
                            "      <td>2018-11-19</td>\n",
                            "      <td>0.10</td>\n",
                            "      <td>1</td>\n",
                            "      <td>0</td>\n",
                            "    </tr>\n",
                            "  </tbody>\n",
                            "</table>\n",
                            "</div>"
                        ],
                        "text/plain": [
                            "                                               name  host_id    host_name  \\\n",
                            "0                Clean & quiet apt home by the park     2787         John   \n",
                            "1                             Skylit Midtown Castle     2845     Jennifer   \n",
                            "2               THE VILLAGE OF HARLEM....NEW YORK !     4632    Elisabeth   \n",
                            "3                   Cozy Entire Floor of Brownstone     4869  LisaRoxanne   \n",
                            "4  Entire Apt: Spacious Studio/Loft by central park     7192        Laura   \n",
                            "\n",
                            "  neighbourhood_group neighbourhood  latitude  longitude        room_type  \\\n",
                            "0            Brooklyn    Kensington  40.64749  -73.97237     Private room   \n",
                            "1           Manhattan       Midtown  40.75362  -73.98377  Entire home/apt   \n",
                            "2           Manhattan        Harlem  40.80902  -73.94190     Private room   \n",
                            "3            Brooklyn  Clinton Hill  40.68514  -73.95976  Entire home/apt   \n",
                            "4           Manhattan   East Harlem  40.79851  -73.94399  Entire home/apt   \n",
                            "\n",
                            "   price  minimum_nights  number_of_reviews last_review  reviews_per_month  \\\n",
                            "0    149               1                  9  2018-10-19               0.21   \n",
                            "1    225               1                 45  2019-05-21               0.38   \n",
                            "2    150               3                  0         NaN                NaN   \n",
                            "3     89               1                270  2019-07-05               4.64   \n",
                            "4     80              10                  9  2018-11-19               0.10   \n",
                            "\n",
                            "   calculated_host_listings_count  availability_365  \n",
                            "0                               6               365  \n",
                            "1                               2               355  \n",
                            "2                               1               365  \n",
                            "3                               1               194  \n",
                            "4                               1                 0  "
                        ]
                    },
                    "execution_count": 1,
                    "metadata": {},
                    "output_type": "execute_result"
                }
            ],
            "source": [
                "#Importamos librerias\n",
                "\n",
                "import pandas as pd\n",
                "import matplotlib.pyplot as plt\n",
                "import numpy as np\n",
                "import missingno as msno\n",
                "from sklearn.impute import KNNImputer\n",
                "import statsmodels.api as sm\n",
                "from sklearn.model_selection import train_test_split\n",
                "\n",
                "df = pd.read_csv(\"/workspaces/Data-Preprocessing-Project-Vicente-Polo/data/raw/AB_NYC_2019.csv\").iloc[:,1:]\n",
                "\n",
                "pd.set_option('display.max_columns', None)\n",
                "\n",
                "df.head()\n"
            ]
        },
        {
            "cell_type": "code",
            "execution_count": 2,
            "metadata": {},
            "outputs": [
                {
                    "data": {
                        "text/plain": [
                            "(48895, 15)"
                        ]
                    },
                    "execution_count": 2,
                    "metadata": {},
                    "output_type": "execute_result"
                }
            ],
            "source": [
                "df.shape"
            ]
        },
        {
            "cell_type": "code",
            "execution_count": null,
            "metadata": {},
            "outputs": [
                {
                    "name": "stdout",
                    "output_type": "stream",
                    "text": [
                        "<class 'pandas.core.frame.DataFrame'>\n",
                        "RangeIndex: 48895 entries, 0 to 48894\n",
                        "Data columns (total 15 columns):\n",
                        " #   Column                          Non-Null Count  Dtype  \n",
                        "---  ------                          --------------  -----  \n",
                        " 0   name                            48879 non-null  object \n",
                        " 1   host_id                         48895 non-null  int64  \n",
                        " 2   host_name                       48874 non-null  object \n",
                        " 3   neighbourhood_group             48895 non-null  object \n",
                        " 4   neighbourhood                   48895 non-null  object \n",
                        " 5   latitude                        48895 non-null  float64\n",
                        " 6   longitude                       48895 non-null  float64\n",
                        " 7   room_type                       48895 non-null  object \n",
                        " 8   price                           48895 non-null  int64  \n",
                        " 9   minimum_nights                  48895 non-null  int64  \n",
                        " 10  number_of_reviews               48895 non-null  int64  \n",
                        " 11  last_review                     38843 non-null  object \n",
                        " 12  reviews_per_month               38843 non-null  float64\n",
                        " 13  calculated_host_listings_count  48895 non-null  int64  \n",
                        " 14  availability_365                48895 non-null  int64  \n",
                        "dtypes: float64(3), int64(6), object(6)\n",
                        "memory usage: 5.6+ MB\n"
                    ]
                }
            ],
            "source": [
                "df.info()"
            ]
        },
        {
            "cell_type": "markdown",
            "metadata": {},
            "source": [
                "Análisis de constantes"
            ]
        },
        {
            "cell_type": "code",
            "execution_count": 4,
            "metadata": {},
            "outputs": [
                {
                    "data": {
                        "text/plain": [
                            "name                              47905\n",
                            "host_id                           37457\n",
                            "host_name                         11452\n",
                            "neighbourhood_group                   5\n",
                            "neighbourhood                       221\n",
                            "latitude                          19048\n",
                            "longitude                         14718\n",
                            "room_type                             3\n",
                            "price                               674\n",
                            "minimum_nights                      109\n",
                            "number_of_reviews                   394\n",
                            "last_review                        1764\n",
                            "reviews_per_month                   937\n",
                            "calculated_host_listings_count       47\n",
                            "availability_365                    366\n",
                            "dtype: int64"
                        ]
                    },
                    "execution_count": 4,
                    "metadata": {},
                    "output_type": "execute_result"
                }
            ],
            "source": [
                "n_unicos = df.nunique()\n",
                "n_unicos"
            ]
        },
        {
            "cell_type": "markdown",
            "metadata": {},
            "source": [
                "Revisamos que no hay duplicados"
            ]
        },
        {
            "cell_type": "code",
            "execution_count": 5,
            "metadata": {},
            "outputs": [
                {
                    "data": {
                        "text/plain": [
                            "np.int64(0)"
                        ]
                    },
                    "execution_count": 5,
                    "metadata": {},
                    "output_type": "execute_result"
                }
            ],
            "source": [
                "df.duplicated().sum()"
            ]
        },
        {
            "cell_type": "markdown",
            "metadata": {},
            "source": [
                "Revisamos todas las columnas "
            ]
        },
        {
            "cell_type": "code",
            "execution_count": 6,
            "metadata": {},
            "outputs": [
                {
                    "data": {
                        "text/html": [
                            "<div>\n",
                            "<style scoped>\n",
                            "    .dataframe tbody tr th:only-of-type {\n",
                            "        vertical-align: middle;\n",
                            "    }\n",
                            "\n",
                            "    .dataframe tbody tr th {\n",
                            "        vertical-align: top;\n",
                            "    }\n",
                            "\n",
                            "    .dataframe thead th {\n",
                            "        text-align: right;\n",
                            "    }\n",
                            "</style>\n",
                            "<table border=\"1\" class=\"dataframe\">\n",
                            "  <thead>\n",
                            "    <tr style=\"text-align: right;\">\n",
                            "      <th></th>\n",
                            "      <th>name</th>\n",
                            "      <th>host_id</th>\n",
                            "      <th>host_name</th>\n",
                            "      <th>neighbourhood_group</th>\n",
                            "      <th>neighbourhood</th>\n",
                            "      <th>latitude</th>\n",
                            "      <th>longitude</th>\n",
                            "      <th>room_type</th>\n",
                            "      <th>price</th>\n",
                            "      <th>minimum_nights</th>\n",
                            "      <th>number_of_reviews</th>\n",
                            "      <th>last_review</th>\n",
                            "      <th>reviews_per_month</th>\n",
                            "      <th>calculated_host_listings_count</th>\n",
                            "      <th>availability_365</th>\n",
                            "    </tr>\n",
                            "  </thead>\n",
                            "  <tbody>\n",
                            "    <tr>\n",
                            "      <th>count</th>\n",
                            "      <td>48879</td>\n",
                            "      <td>4.889500e+04</td>\n",
                            "      <td>48874</td>\n",
                            "      <td>48895</td>\n",
                            "      <td>48895</td>\n",
                            "      <td>48895.000000</td>\n",
                            "      <td>48895.000000</td>\n",
                            "      <td>48895</td>\n",
                            "      <td>48895.000000</td>\n",
                            "      <td>48895.000000</td>\n",
                            "      <td>48895.000000</td>\n",
                            "      <td>38843</td>\n",
                            "      <td>38843.000000</td>\n",
                            "      <td>48895.000000</td>\n",
                            "      <td>48895.000000</td>\n",
                            "    </tr>\n",
                            "    <tr>\n",
                            "      <th>unique</th>\n",
                            "      <td>47905</td>\n",
                            "      <td>NaN</td>\n",
                            "      <td>11452</td>\n",
                            "      <td>5</td>\n",
                            "      <td>221</td>\n",
                            "      <td>NaN</td>\n",
                            "      <td>NaN</td>\n",
                            "      <td>3</td>\n",
                            "      <td>NaN</td>\n",
                            "      <td>NaN</td>\n",
                            "      <td>NaN</td>\n",
                            "      <td>1764</td>\n",
                            "      <td>NaN</td>\n",
                            "      <td>NaN</td>\n",
                            "      <td>NaN</td>\n",
                            "    </tr>\n",
                            "    <tr>\n",
                            "      <th>top</th>\n",
                            "      <td>Hillside Hotel</td>\n",
                            "      <td>NaN</td>\n",
                            "      <td>Michael</td>\n",
                            "      <td>Manhattan</td>\n",
                            "      <td>Williamsburg</td>\n",
                            "      <td>NaN</td>\n",
                            "      <td>NaN</td>\n",
                            "      <td>Entire home/apt</td>\n",
                            "      <td>NaN</td>\n",
                            "      <td>NaN</td>\n",
                            "      <td>NaN</td>\n",
                            "      <td>2019-06-23</td>\n",
                            "      <td>NaN</td>\n",
                            "      <td>NaN</td>\n",
                            "      <td>NaN</td>\n",
                            "    </tr>\n",
                            "    <tr>\n",
                            "      <th>freq</th>\n",
                            "      <td>18</td>\n",
                            "      <td>NaN</td>\n",
                            "      <td>417</td>\n",
                            "      <td>21661</td>\n",
                            "      <td>3920</td>\n",
                            "      <td>NaN</td>\n",
                            "      <td>NaN</td>\n",
                            "      <td>25409</td>\n",
                            "      <td>NaN</td>\n",
                            "      <td>NaN</td>\n",
                            "      <td>NaN</td>\n",
                            "      <td>1413</td>\n",
                            "      <td>NaN</td>\n",
                            "      <td>NaN</td>\n",
                            "      <td>NaN</td>\n",
                            "    </tr>\n",
                            "    <tr>\n",
                            "      <th>mean</th>\n",
                            "      <td>NaN</td>\n",
                            "      <td>6.762001e+07</td>\n",
                            "      <td>NaN</td>\n",
                            "      <td>NaN</td>\n",
                            "      <td>NaN</td>\n",
                            "      <td>40.728949</td>\n",
                            "      <td>-73.952170</td>\n",
                            "      <td>NaN</td>\n",
                            "      <td>152.720687</td>\n",
                            "      <td>7.029962</td>\n",
                            "      <td>23.274466</td>\n",
                            "      <td>NaN</td>\n",
                            "      <td>1.373221</td>\n",
                            "      <td>7.143982</td>\n",
                            "      <td>112.781327</td>\n",
                            "    </tr>\n",
                            "    <tr>\n",
                            "      <th>std</th>\n",
                            "      <td>NaN</td>\n",
                            "      <td>7.861097e+07</td>\n",
                            "      <td>NaN</td>\n",
                            "      <td>NaN</td>\n",
                            "      <td>NaN</td>\n",
                            "      <td>0.054530</td>\n",
                            "      <td>0.046157</td>\n",
                            "      <td>NaN</td>\n",
                            "      <td>240.154170</td>\n",
                            "      <td>20.510550</td>\n",
                            "      <td>44.550582</td>\n",
                            "      <td>NaN</td>\n",
                            "      <td>1.680442</td>\n",
                            "      <td>32.952519</td>\n",
                            "      <td>131.622289</td>\n",
                            "    </tr>\n",
                            "    <tr>\n",
                            "      <th>min</th>\n",
                            "      <td>NaN</td>\n",
                            "      <td>2.438000e+03</td>\n",
                            "      <td>NaN</td>\n",
                            "      <td>NaN</td>\n",
                            "      <td>NaN</td>\n",
                            "      <td>40.499790</td>\n",
                            "      <td>-74.244420</td>\n",
                            "      <td>NaN</td>\n",
                            "      <td>0.000000</td>\n",
                            "      <td>1.000000</td>\n",
                            "      <td>0.000000</td>\n",
                            "      <td>NaN</td>\n",
                            "      <td>0.010000</td>\n",
                            "      <td>1.000000</td>\n",
                            "      <td>0.000000</td>\n",
                            "    </tr>\n",
                            "    <tr>\n",
                            "      <th>25%</th>\n",
                            "      <td>NaN</td>\n",
                            "      <td>7.822033e+06</td>\n",
                            "      <td>NaN</td>\n",
                            "      <td>NaN</td>\n",
                            "      <td>NaN</td>\n",
                            "      <td>40.690100</td>\n",
                            "      <td>-73.983070</td>\n",
                            "      <td>NaN</td>\n",
                            "      <td>69.000000</td>\n",
                            "      <td>1.000000</td>\n",
                            "      <td>1.000000</td>\n",
                            "      <td>NaN</td>\n",
                            "      <td>0.190000</td>\n",
                            "      <td>1.000000</td>\n",
                            "      <td>0.000000</td>\n",
                            "    </tr>\n",
                            "    <tr>\n",
                            "      <th>50%</th>\n",
                            "      <td>NaN</td>\n",
                            "      <td>3.079382e+07</td>\n",
                            "      <td>NaN</td>\n",
                            "      <td>NaN</td>\n",
                            "      <td>NaN</td>\n",
                            "      <td>40.723070</td>\n",
                            "      <td>-73.955680</td>\n",
                            "      <td>NaN</td>\n",
                            "      <td>106.000000</td>\n",
                            "      <td>3.000000</td>\n",
                            "      <td>5.000000</td>\n",
                            "      <td>NaN</td>\n",
                            "      <td>0.720000</td>\n",
                            "      <td>1.000000</td>\n",
                            "      <td>45.000000</td>\n",
                            "    </tr>\n",
                            "    <tr>\n",
                            "      <th>75%</th>\n",
                            "      <td>NaN</td>\n",
                            "      <td>1.074344e+08</td>\n",
                            "      <td>NaN</td>\n",
                            "      <td>NaN</td>\n",
                            "      <td>NaN</td>\n",
                            "      <td>40.763115</td>\n",
                            "      <td>-73.936275</td>\n",
                            "      <td>NaN</td>\n",
                            "      <td>175.000000</td>\n",
                            "      <td>5.000000</td>\n",
                            "      <td>24.000000</td>\n",
                            "      <td>NaN</td>\n",
                            "      <td>2.020000</td>\n",
                            "      <td>2.000000</td>\n",
                            "      <td>227.000000</td>\n",
                            "    </tr>\n",
                            "    <tr>\n",
                            "      <th>max</th>\n",
                            "      <td>NaN</td>\n",
                            "      <td>2.743213e+08</td>\n",
                            "      <td>NaN</td>\n",
                            "      <td>NaN</td>\n",
                            "      <td>NaN</td>\n",
                            "      <td>40.913060</td>\n",
                            "      <td>-73.712990</td>\n",
                            "      <td>NaN</td>\n",
                            "      <td>10000.000000</td>\n",
                            "      <td>1250.000000</td>\n",
                            "      <td>629.000000</td>\n",
                            "      <td>NaN</td>\n",
                            "      <td>58.500000</td>\n",
                            "      <td>327.000000</td>\n",
                            "      <td>365.000000</td>\n",
                            "    </tr>\n",
                            "  </tbody>\n",
                            "</table>\n",
                            "</div>"
                        ],
                        "text/plain": [
                            "                  name       host_id host_name neighbourhood_group  \\\n",
                            "count            48879  4.889500e+04     48874               48895   \n",
                            "unique           47905           NaN     11452                   5   \n",
                            "top     Hillside Hotel           NaN   Michael           Manhattan   \n",
                            "freq                18           NaN       417               21661   \n",
                            "mean               NaN  6.762001e+07       NaN                 NaN   \n",
                            "std                NaN  7.861097e+07       NaN                 NaN   \n",
                            "min                NaN  2.438000e+03       NaN                 NaN   \n",
                            "25%                NaN  7.822033e+06       NaN                 NaN   \n",
                            "50%                NaN  3.079382e+07       NaN                 NaN   \n",
                            "75%                NaN  1.074344e+08       NaN                 NaN   \n",
                            "max                NaN  2.743213e+08       NaN                 NaN   \n",
                            "\n",
                            "       neighbourhood      latitude     longitude        room_type  \\\n",
                            "count          48895  48895.000000  48895.000000            48895   \n",
                            "unique           221           NaN           NaN                3   \n",
                            "top     Williamsburg           NaN           NaN  Entire home/apt   \n",
                            "freq            3920           NaN           NaN            25409   \n",
                            "mean             NaN     40.728949    -73.952170              NaN   \n",
                            "std              NaN      0.054530      0.046157              NaN   \n",
                            "min              NaN     40.499790    -74.244420              NaN   \n",
                            "25%              NaN     40.690100    -73.983070              NaN   \n",
                            "50%              NaN     40.723070    -73.955680              NaN   \n",
                            "75%              NaN     40.763115    -73.936275              NaN   \n",
                            "max              NaN     40.913060    -73.712990              NaN   \n",
                            "\n",
                            "               price  minimum_nights  number_of_reviews last_review  \\\n",
                            "count   48895.000000    48895.000000       48895.000000       38843   \n",
                            "unique           NaN             NaN                NaN        1764   \n",
                            "top              NaN             NaN                NaN  2019-06-23   \n",
                            "freq             NaN             NaN                NaN        1413   \n",
                            "mean      152.720687        7.029962          23.274466         NaN   \n",
                            "std       240.154170       20.510550          44.550582         NaN   \n",
                            "min         0.000000        1.000000           0.000000         NaN   \n",
                            "25%        69.000000        1.000000           1.000000         NaN   \n",
                            "50%       106.000000        3.000000           5.000000         NaN   \n",
                            "75%       175.000000        5.000000          24.000000         NaN   \n",
                            "max     10000.000000     1250.000000         629.000000         NaN   \n",
                            "\n",
                            "        reviews_per_month  calculated_host_listings_count  availability_365  \n",
                            "count        38843.000000                    48895.000000      48895.000000  \n",
                            "unique                NaN                             NaN               NaN  \n",
                            "top                   NaN                             NaN               NaN  \n",
                            "freq                  NaN                             NaN               NaN  \n",
                            "mean             1.373221                        7.143982        112.781327  \n",
                            "std              1.680442                       32.952519        131.622289  \n",
                            "min              0.010000                        1.000000          0.000000  \n",
                            "25%              0.190000                        1.000000          0.000000  \n",
                            "50%              0.720000                        1.000000         45.000000  \n",
                            "75%              2.020000                        2.000000        227.000000  \n",
                            "max             58.500000                      327.000000        365.000000  "
                        ]
                    },
                    "execution_count": 6,
                    "metadata": {},
                    "output_type": "execute_result"
                }
            ],
            "source": [
                "df.describe(include=\"all\")"
            ]
        },
        {
            "cell_type": "code",
            "execution_count": 7,
            "metadata": {},
            "outputs": [
                {
                    "data": {
                        "text/plain": [
                            "name                               0.032723\n",
                            "host_id                            0.000000\n",
                            "host_name                          0.042949\n",
                            "neighbourhood_group                0.000000\n",
                            "neighbourhood                      0.000000\n",
                            "latitude                           0.000000\n",
                            "longitude                          0.000000\n",
                            "room_type                          0.000000\n",
                            "price                              0.000000\n",
                            "minimum_nights                     0.000000\n",
                            "number_of_reviews                  0.000000\n",
                            "last_review                       20.558339\n",
                            "reviews_per_month                 20.558339\n",
                            "calculated_host_listings_count     0.000000\n",
                            "availability_365                   0.000000\n",
                            "dtype: float64"
                        ]
                    },
                    "execution_count": 7,
                    "metadata": {},
                    "output_type": "execute_result"
                }
            ],
            "source": [
                "# Comprobamos el porcentaje de anuncios que presentan al menos un valor faltante\n",
                "df.isnull().mean()*100\n"
            ]
        },
        {
            "cell_type": "markdown",
            "metadata": {},
            "source": [
                "Como se puede comprobar los campos correspondientes a reviews tienen un 20 por ciento de valores faltantes, por lo que estimamos que deberían ser eliminadas."
            ]
        },
        {
            "cell_type": "code",
            "execution_count": 8,
            "metadata": {},
            "outputs": [],
            "source": [
                "#Eliminamos columnas con 20% de nulos\n",
                "df.drop(['last_review','reviews_per_month','number_of_reviews'],axis=1,inplace=True)\n"
            ]
        },
        {
            "cell_type": "code",
            "execution_count": 9,
            "metadata": {},
            "outputs": [
                {
                    "data": {
                        "text/plain": [
                            "np.float64(0.07567235913692606)"
                        ]
                    },
                    "execution_count": 9,
                    "metadata": {},
                    "output_type": "execute_result"
                }
            ],
            "source": [
                "#Procedemos a comprobar\n",
                "\n",
                "df.isnull().any(axis=1).mean()*100"
            ]
        },
        {
            "cell_type": "code",
            "execution_count": 10,
            "metadata": {},
            "outputs": [
                {
                    "data": {
                        "text/plain": [
                            "<Axes: >"
                        ]
                    },
                    "execution_count": 10,
                    "metadata": {},
                    "output_type": "execute_result"
                },
                {
                    "data": {
                        "image/png": "[encoded data removed]",
                        "text/plain": [
                            "<Figure size 2500x1000 with 2 Axes>"
                        ]
                    },
                    "metadata": {},
                    "output_type": "display_data"
                }
            ],
            "source": [
                "# Comprobamos la integridad de los datos para ver si hay datos faltantes visibles\n",
                "\n",
                "msno.matrix(df)"
            ]
        },
        {
            "cell_type": "markdown",
            "metadata": {},
            "source": [
                "# En este caso no haría falta imputar con el algoritmo de KNN"
            ]
        },
        {
            "cell_type": "code",
            "execution_count": 11,
            "metadata": {},
            "outputs": [],
            "source": [
                "#El problema que se nos presenta es que hay columnas numéricas y no numéricas, como por ejemplo la descripción del inmueble. \n",
                "\n",
                "# Seleccionar solo columnas numéricas\n",
                "#columnas_numericas = df.select_dtypes(include=['number'])\n",
                "#columnas_no_numericas = df.select_dtypes(exclude=['number'])\n",
                "\n",
                "# Aplicar KNNImputer solo a las columnas numéricas\n",
                "#imputador_knn = KNNImputer(n_neighbors=3)\n",
                "#df_imputado_num = pd.DataFrame(imputador_knn.fit_transform(columnas_numericas),columns=columnas_numericas.columns)\n",
                "    \n"
            ]
        },
        {
            "cell_type": "markdown",
            "metadata": {},
            "source": [
                "Comprobamos si quedan valores que se salgan"
            ]
        },
        {
            "cell_type": "code",
            "execution_count": null,
            "metadata": {},
            "outputs": [],
            "source": [
                "df_imputado_num.isnull().mean()*100"
            ]
        },
        {
            "cell_type": "markdown",
            "metadata": {},
            "source": [
                "# Definimos X e Y para dividir el data set entre train y test"
            ]
        },
        {
            "cell_type": "code",
            "execution_count": 14,
            "metadata": {},
            "outputs": [],
            "source": [
                "X = df.drop(['price'], axis=1)\n",
                "y = df['price']\n",
                "\n",
                "X_train, X_test, y_train, y_test = train_test_split(X, y, test_size=0.2, random_state=42)"
            ]
        }
    ],
    "metadata": {
        "kernelspec": {
            "display_name": "Python 3",
            "language": "python",
            "name": "python3"
        },
        "language_info": {
            "codemirror_mode": {
                "name": "ipython",
                "version": 3
            },
            "file_extension": ".py",
            "mimetype": "text/x-python",
            "name": "python",
            "nbconvert_exporter": "python",
            "pygments_lexer": "ipython3",
            "version": "3.10.12"
        },
        "orig_nbformat": 4
    },
    "nbformat": 4,
    "nbformat_minor": 2
}
